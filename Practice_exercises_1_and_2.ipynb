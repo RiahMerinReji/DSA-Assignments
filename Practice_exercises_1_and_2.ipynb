{
  "nbformat": 4,
  "nbformat_minor": 0,
  "metadata": {
    "colab": {
      "provenance": []
    },
    "kernelspec": {
      "name": "python3",
      "display_name": "Python 3"
    },
    "language_info": {
      "name": "python"
    }
  },
  "cells": [
    {
      "cell_type": "code",
      "execution_count": null,
      "metadata": {
        "id": "izIQrTPHqK-C"
      },
      "outputs": [],
      "source": []
    },
    {
      "cell_type": "markdown",
      "source": [
        "**PRACTICE EXERCISES 1**"
      ],
      "metadata": {
        "id": "qcKYN1HxchSy"
      }
    },
    {
      "cell_type": "markdown",
      "source": [
        "# 1. Write a Python program which accepts the radius of a circle from the user and compute the area.\n"
      ],
      "metadata": {
        "id": "U-pJYECiqLzh"
      }
    },
    {
      "cell_type": "code",
      "source": [
        "import math\n",
        "math.pi\n",
        "r = float(input(\"Enter the radius\"))\n",
        "area = math.pi*(r**2)\n",
        "print(\"Area of a circle is \", area)"
      ],
      "metadata": {
        "colab": {
          "base_uri": "https://localhost:8080/"
        },
        "id": "IVrk-Gh_qW-1",
        "outputId": "8cc99a49-3dbd-443c-f9ce-e8574e304e63"
      },
      "execution_count": 2,
      "outputs": [
        {
          "output_type": "stream",
          "name": "stdout",
          "text": [
            "Enter the radius3\n",
            "Area of a circle is  28.274333882308138\n"
          ]
        }
      ]
    },
    {
      "cell_type": "markdown",
      "source": [
        "#2. Write a Python Program to accept the details of a student like name, roll number and mark and display it."
      ],
      "metadata": {
        "id": "jBKF6jXxrAPU"
      }
    },
    {
      "cell_type": "code",
      "source": [
        "name = input(\"Enter the name\")\n",
        "roll_no = int(input(\"Enter the roll number\"))\n",
        "mark = int(input(\"Enter the mark\"))\n",
        "print('Name: ', name)\n",
        "print(\"Roll No: \", roll_no)\n",
        "print(\"Mark: \", mark)"
      ],
      "metadata": {
        "colab": {
          "base_uri": "https://localhost:8080/"
        },
        "id": "nz7JoqoRrMBq",
        "outputId": "df37269f-369a-4cf2-a568-9e35d7342710"
      },
      "execution_count": 4,
      "outputs": [
        {
          "output_type": "stream",
          "name": "stdout",
          "text": [
            "Enter the nameMerin\n",
            "Enter the roll number37\n",
            "Enter the mark56\n",
            "Name:  Merin\n",
            "Roll No:  37\n",
            "Mark:  56\n"
          ]
        }
      ]
    },
    {
      "cell_type": "markdown",
      "source": [
        "#3. Write a Python program to get the largest number from a list.\n"
      ],
      "metadata": {
        "id": "4WjW5UzBsZYq"
      }
    },
    {
      "cell_type": "code",
      "source": [
        "l=int(input('enter the length of the list'))\n",
        "list=[]\n",
        "for i in range(l):\n",
        "  num=int(input())\n",
        "  list.append(num)\n",
        "print(list)\n",
        "\n",
        "largest_number = list[0]\n",
        "for number in list:\n",
        "  if number > largest_number:\n",
        "    largest_number = number\n",
        "  else:\n",
        "    continue\n",
        "print(largest_number)\n",
        "\n"
      ],
      "metadata": {
        "colab": {
          "base_uri": "https://localhost:8080/"
        },
        "id": "POV22HYRsfqx",
        "outputId": "82e4e540-9d36-4dd1-e9e0-0a99c70c756f"
      },
      "execution_count": 5,
      "outputs": [
        {
          "output_type": "stream",
          "name": "stdout",
          "text": [
            "enter the length of the list4\n",
            "12\n",
            "3\n",
            "47\n",
            "10\n",
            "[12, 3, 47, 10]\n",
            "47\n"
          ]
        }
      ]
    },
    {
      "cell_type": "markdown",
      "source": [
        "#4. Given a range of first 10 numbers, write a Python program to iterate from start number to the end number and print the sum of the current number and previous number.\n"
      ],
      "metadata": {
        "id": "PIC2gkD3EP2i"
      }
    },
    {
      "cell_type": "code",
      "source": [
        "for current_number in range(1,11):\n",
        "  if current_number == 1:\n",
        "    previous_number = 0\n",
        "  else:\n",
        "    previous_number = current_number -1\n",
        "  sum = current_number + previous_number\n",
        "  print(\"Current number= \",current_number , \"Previous number = \",previous_number, \"Sum: \",sum)\n"
      ],
      "metadata": {
        "colab": {
          "base_uri": "https://localhost:8080/"
        },
        "id": "MxKhh9R6Erl6",
        "outputId": "7389f6ad-98ed-4308-bdf7-0b8ac34d3744"
      },
      "execution_count": 6,
      "outputs": [
        {
          "output_type": "stream",
          "name": "stdout",
          "text": [
            "Current number=  1 Previous number =  0 Sum:  1\n",
            "Current number=  2 Previous number =  1 Sum:  3\n",
            "Current number=  3 Previous number =  2 Sum:  5\n",
            "Current number=  4 Previous number =  3 Sum:  7\n",
            "Current number=  5 Previous number =  4 Sum:  9\n",
            "Current number=  6 Previous number =  5 Sum:  11\n",
            "Current number=  7 Previous number =  6 Sum:  13\n",
            "Current number=  8 Previous number =  7 Sum:  15\n",
            "Current number=  9 Previous number =  8 Sum:  17\n",
            "Current number=  10 Previous number =  9 Sum:  19\n"
          ]
        }
      ]
    },
    {
      "cell_type": "markdown",
      "source": [
        "#5. Write a Python program to print only those numbers which are divisible of 5."
      ],
      "metadata": {
        "id": "hsKqMnfgIMtl"
      }
    },
    {
      "cell_type": "code",
      "source": [
        "l=int(input('enter the length of the list'))\n",
        "list=[]\n",
        "for i in range(l):\n",
        "  num=int(input())\n",
        "  list.append(num)\n",
        "print(list)\n",
        "for number in list:\n",
        "  if number % 5 ==0:\n",
        "    print(number)"
      ],
      "metadata": {
        "colab": {
          "base_uri": "https://localhost:8080/"
        },
        "id": "BdQ8_ZQhITtj",
        "outputId": "5ae8ec4d-317d-4911-c28d-825f5620f92d"
      },
      "execution_count": 7,
      "outputs": [
        {
          "output_type": "stream",
          "name": "stdout",
          "text": [
            "enter the length of the list5\n",
            "10\n",
            "20\n",
            "33\n",
            "46\n",
            "55\n",
            "[10, 20, 33, 46, 55]\n",
            "10\n",
            "20\n",
            "55\n"
          ]
        }
      ]
    },
    {
      "cell_type": "markdown",
      "source": [
        "#6. Write a Python program to check whether a number is prime or not."
      ],
      "metadata": {
        "id": "dXI6mqIBL7d2"
      }
    },
    {
      "cell_type": "code",
      "source": [
        "number = int(input(\"Enter a number\"))\n",
        "for check in range(2,number//2):\n",
        "  if number%check == 0:\n",
        "    print(number, \"is not a prime number \")\n",
        "    break\n",
        "else:\n",
        "    print(number,\" is a prime number\")"
      ],
      "metadata": {
        "colab": {
          "base_uri": "https://localhost:8080/"
        },
        "id": "KhqIwuNyMBQ_",
        "outputId": "cfb94e16-37a0-4a46-9012-f0014e3737e5"
      },
      "execution_count": 8,
      "outputs": [
        {
          "output_type": "stream",
          "name": "stdout",
          "text": [
            "Enter a number3\n",
            "3  is a prime number\n"
          ]
        }
      ]
    },
    {
      "cell_type": "markdown",
      "source": [
        "#7. Write a Python program to reverse a list using for loop."
      ],
      "metadata": {
        "id": "KsIc1JD0Q-Jw"
      }
    },
    {
      "cell_type": "code",
      "source": [
        "l=int(input('enter the length of the list'))\n",
        "list=[]\n",
        "for i in range(l):\n",
        "  num=int(input())\n",
        "  list.append(num)\n",
        "print(list)\n",
        "\n",
        "reversed_list =[]\n",
        "for value in list:\n",
        "  reversed_list = [value] + reversed_list\n",
        "print(reversed_list)\n"
      ],
      "metadata": {
        "colab": {
          "base_uri": "https://localhost:8080/"
        },
        "id": "kqd_oSOaRF9n",
        "outputId": "c172ff13-dfcd-4208-c80e-0ced82faa2b9"
      },
      "execution_count": 9,
      "outputs": [
        {
          "output_type": "stream",
          "name": "stdout",
          "text": [
            "enter the length of the list4\n",
            "10\n",
            "40\n",
            "30\n",
            "70\n",
            "[10, 40, 30, 70]\n",
            "[70, 30, 40, 10]\n"
          ]
        }
      ]
    },
    {
      "cell_type": "markdown",
      "source": [
        "#8. Write a Python program to print the following pattern."
      ],
      "metadata": {
        "id": "1dqRyH06W8nR"
      }
    },
    {
      "cell_type": "code",
      "source": [
        "n = 5\n",
        "for i in range(n):\n",
        "  for j in range(i):\n",
        "    print(\"*\", end =\"\")\n",
        "  print(\" \")"
      ],
      "metadata": {
        "colab": {
          "base_uri": "https://localhost:8080/"
        },
        "id": "FLSDqhVCXCuy",
        "outputId": "d9dd00e8-3018-4411-dc4a-e11642efbe40"
      },
      "execution_count": 10,
      "outputs": [
        {
          "output_type": "stream",
          "name": "stdout",
          "text": [
            " \n",
            "* \n",
            "** \n",
            "*** \n",
            "**** \n"
          ]
        }
      ]
    },
    {
      "cell_type": "markdown",
      "source": [
        "#9. Write a Python program to find the maximum of three numbers."
      ],
      "metadata": {
        "id": "X633M0FibLrj"
      }
    },
    {
      "cell_type": "code",
      "source": [
        "num_1 = int(input(\"Enter the first number\"))\n",
        "num_2 = int(input(\"Enter the second number\"))\n",
        "num_3 = int(input(\"Enter the third number\"))\n",
        "if num_1 >num_2 and num_1 > num_3:\n",
        "  print('The maximum of three numbers is ', num_1)\n",
        "elif num_2 > num_1 and num_2 > num_3:\n",
        "  print(\"The maximum of three numbers is \", num_2)\n",
        "else:\n",
        "    print(\"The maximum of three numbers is \", num_3)"
      ],
      "metadata": {
        "colab": {
          "base_uri": "https://localhost:8080/"
        },
        "id": "i1zpQuHTbPR-",
        "outputId": "fbafb320-45b9-4706-8a56-1651f4581e38"
      },
      "execution_count": 11,
      "outputs": [
        {
          "output_type": "stream",
          "name": "stdout",
          "text": [
            "Enter the first number34\n",
            "Enter the second number12\n",
            "Enter the third number7\n",
            "The maximum of three numbers is  34\n"
          ]
        }
      ]
    },
    {
      "cell_type": "markdown",
      "source": [
        "# 10. Write a Python program to construct the following pattern, using a nested for loop.\n"
      ],
      "metadata": {
        "id": "zi-KJDmMdWeO"
      }
    },
    {
      "cell_type": "code",
      "source": [
        "n = 5\n",
        "for i in range(5):\n",
        "  for j in range(i):\n",
        "    print(\"*\",end=\"\")\n",
        "  print(\"\")\n",
        "# to move down further and to itereate from 5 to 1\n",
        "for i in range(n,0,-1):\n",
        "  for j in range(i):\n",
        "    print(\"*\",end =\"\")\n",
        "  print(\"\")\n"
      ],
      "metadata": {
        "id": "PVSNJWaapoIn",
        "colab": {
          "base_uri": "https://localhost:8080/"
        },
        "outputId": "c449e158-8725-4691-8d3e-29d9d7ace177"
      },
      "execution_count": 14,
      "outputs": [
        {
          "output_type": "stream",
          "name": "stdout",
          "text": [
            "\n",
            "*\n",
            "**\n",
            "***\n",
            "****\n",
            "*****\n",
            "****\n",
            "***\n",
            "**\n",
            "*\n"
          ]
        }
      ]
    },
    {
      "cell_type": "markdown",
      "source": [],
      "metadata": {
        "id": "lL5l7rycb6rb"
      }
    },
    {
      "cell_type": "markdown",
      "source": [
        "**PRACTICE EXERCISES 2**\n"
      ],
      "metadata": {
        "id": "EvjpC427cS_K"
      }
    },
    {
      "cell_type": "code",
      "source": [],
      "metadata": {
        "id": "KbizJdI4cccS"
      },
      "execution_count": null,
      "outputs": []
    },
    {
      "cell_type": "markdown",
      "source": [
        "#1. Write a Python program to accept a string value from the user and display the count of each character in that string.\n"
      ],
      "metadata": {
        "id": "UkHkFRT5egqY"
      }
    },
    {
      "cell_type": "code",
      "source": [
        "s=input('Enter your string')\n",
        "str={}\n",
        "for i in s:\n",
        "  char=str.keys()\n",
        "  if i in char:\n",
        "    str[i]+=1\n",
        "  else:\n",
        "    str[i]=1\n",
        "print(str)"
      ],
      "metadata": {
        "id": "rOH6tt-ieyeD",
        "colab": {
          "base_uri": "https://localhost:8080/"
        },
        "outputId": "0fd5e1f4-2a83-4380-a442-aea69f79f4b6"
      },
      "execution_count": 15,
      "outputs": [
        {
          "output_type": "stream",
          "name": "stdout",
          "text": [
            "Enter your stringassembly\n",
            "{'a': 1, 's': 2, 'e': 1, 'm': 1, 'b': 1, 'l': 1, 'y': 1}\n"
          ]
        }
      ]
    },
    {
      "cell_type": "markdown",
      "source": [
        "#2. Write a Python function to find the maximum of three numbers."
      ],
      "metadata": {
        "id": "HVilm1PVnzzj"
      }
    },
    {
      "cell_type": "code",
      "source": [
        "def max(a,b,c):\n",
        "  if a>b and a>c:\n",
        "    return a\n",
        "  elif c>a and c>b:\n",
        "    return c\n",
        "  else:\n",
        "    return b\n",
        "\n",
        "max(34,12,7)"
      ],
      "metadata": {
        "colab": {
          "base_uri": "https://localhost:8080/"
        },
        "id": "MWI2xsBmkplj",
        "outputId": "0dba3ac1-04c8-49f3-bddf-0930e65a48d9"
      },
      "execution_count": 17,
      "outputs": [
        {
          "output_type": "execute_result",
          "data": {
            "text/plain": [
              "34"
            ]
          },
          "metadata": {},
          "execution_count": 17
        }
      ]
    },
    {
      "cell_type": "markdown",
      "source": [
        "#3. Write a Python function called exponent(base,exp) that returns an integer value of base raises to the power of exp."
      ],
      "metadata": {
        "id": "FrUmq36eomg8"
      }
    },
    {
      "cell_type": "code",
      "source": [
        "def exponent(base,exp):\n",
        "  return(base**exp)\n",
        "b= int(input('Enter your base value'))\n",
        "e=int(input('Enter your exponent value'))\n",
        "exponent(b,e)\n",
        "print(exponent(b,e))"
      ],
      "metadata": {
        "id": "iQf5IYW-oG72",
        "colab": {
          "base_uri": "https://localhost:8080/"
        },
        "outputId": "19272df1-96a4-481b-c6f7-5a9e359cd4a0"
      },
      "execution_count": 18,
      "outputs": [
        {
          "output_type": "stream",
          "name": "stdout",
          "text": [
            "Enter your base value2\n",
            "Enter your exponent value3\n",
            "8\n"
          ]
        }
      ]
    },
    {
      "cell_type": "markdown",
      "source": [
        "#4. Write a Python function that takes a positive integer and returns the sum of the cube of all the positive integers smaller than the specified number."
      ],
      "metadata": {
        "id": "xXU_kw1ls8EO"
      }
    },
    {
      "cell_type": "code",
      "source": [
        "def proton(n):\n",
        "  sum=0\n",
        "  for i in range(1,n):\n",
        "    sum+= i**3\n",
        "  print( sum )\n",
        "\n",
        "posit = int(input('Enter your +ve nuumber'))\n",
        "proton(posit)\n"
      ],
      "metadata": {
        "id": "KNV4gAtCtZrP",
        "colab": {
          "base_uri": "https://localhost:8080/"
        },
        "outputId": "ccc34a73-279c-4697-d5cb-8be45b983289"
      },
      "execution_count": 19,
      "outputs": [
        {
          "output_type": "stream",
          "name": "stdout",
          "text": [
            "Enter your +ve nuumber4\n",
            "36\n"
          ]
        }
      ]
    },
    {
      "cell_type": "markdown",
      "source": [
        "#5. Write a Python program which iterates from 1 to 10. For multiples of 2,print “Fizz” instead of the number and for the multiples of 5, print “Buzz”.For numbers which are multiples of both 2 and 5, print “FizzBuzz”."
      ],
      "metadata": {
        "id": "jzH_Z7UPi02y"
      }
    },
    {
      "cell_type": "code",
      "source": [
        "for num in range(1,11):\n",
        "  if num%2==0 and num%5==0:\n",
        "    print('FizzBuzz')\n",
        "    continue\n",
        "  elif num%2==0:\n",
        "    print('Fizz')\n",
        "    continue\n",
        "  elif num%5==0:\n",
        "    print('Buzz')\n",
        "    continue\n",
        "  else:\n",
        "   print(num)"
      ],
      "metadata": {
        "colab": {
          "base_uri": "https://localhost:8080/"
        },
        "id": "yC8jfYi9jBPz",
        "outputId": "30a33d93-0419-46e3-b4ff-3d7e17d1c846"
      },
      "execution_count": 20,
      "outputs": [
        {
          "output_type": "stream",
          "name": "stdout",
          "text": [
            "1\n",
            "Fizz\n",
            "3\n",
            "Fizz\n",
            "Buzz\n",
            "Fizz\n",
            "7\n",
            "Fizz\n",
            "9\n",
            "FizzBuzz\n"
          ]
        }
      ]
    },
    {
      "cell_type": "markdown",
      "source": [
        "#6. Write a Python program to find the most frequent item in a list of numbers."
      ],
      "metadata": {
        "id": "TzBuAqrnl4tO"
      }
    },
    {
      "cell_type": "code",
      "source": [
        "from statistics import mode\n",
        "l=int(input('Enter the length of the list'))\n",
        "list=[]\n",
        "for i in range(l):\n",
        "  num=int(input())\n",
        "  list.append(num)\n",
        "print(list)\n",
        "\n",
        "mode(list)\n",
        "\n"
      ],
      "metadata": {
        "id": "rinTQy8cb5c-",
        "colab": {
          "base_uri": "https://localhost:8080/"
        },
        "outputId": "2f22ce6a-4d02-4849-8bb4-a5cdf583f219"
      },
      "execution_count": 21,
      "outputs": [
        {
          "output_type": "stream",
          "name": "stdout",
          "text": [
            "Enter the length of the list6\n",
            "2\n",
            "3\n",
            "4\n",
            "2\n",
            "5\n",
            "2\n",
            "[2, 3, 4, 2, 5, 2]\n"
          ]
        },
        {
          "output_type": "execute_result",
          "data": {
            "text/plain": [
              "2"
            ]
          },
          "metadata": {},
          "execution_count": 21
        }
      ]
    },
    {
      "cell_type": "markdown",
      "source": [
        "#7. Write a Python program to find the sum of squares of the numbers in a list."
      ],
      "metadata": {
        "id": "0Wx6BYUY5S2l"
      }
    },
    {
      "cell_type": "code",
      "source": [
        "l=int(input('Enter the length of the list'))\n",
        "list=[]\n",
        "for i in range(l):\n",
        "  num=int(input())\n",
        "  list.append(num)\n",
        "print(list)\n",
        "\n",
        "sum=0\n",
        "for i in list:\n",
        "  sum+=i**2\n",
        "print(sum)"
      ],
      "metadata": {
        "id": "H5Nw30rcdbXj",
        "colab": {
          "base_uri": "https://localhost:8080/"
        },
        "outputId": "ff299eff-2208-4073-8f1e-721097b91589"
      },
      "execution_count": 22,
      "outputs": [
        {
          "output_type": "stream",
          "name": "stdout",
          "text": [
            "Enter the length of the list4\n",
            "2\n",
            "1\n",
            "3\n",
            "1\n",
            "[2, 1, 3, 1]\n",
            "15\n"
          ]
        }
      ]
    },
    {
      "cell_type": "markdown",
      "source": [
        "#8.Write a Python program using for loop that will iterate from 1 to 15. For each iteration, check if the current number is odd or even, and display the message to the screen as odd or even."
      ],
      "metadata": {
        "id": "FbjIdj3C_lXK"
      }
    },
    {
      "cell_type": "code",
      "source": [
        "for i in range(1,16):\n",
        "  if i%2==0:\n",
        "    print(i, \"-\",'even')\n",
        "  else:\n",
        "    print(i, \"-\", 'odd')"
      ],
      "metadata": {
        "id": "qxj6mvuPb-UV",
        "colab": {
          "base_uri": "https://localhost:8080/"
        },
        "outputId": "61b32468-f955-418e-ab45-8f624aee1719"
      },
      "execution_count": 23,
      "outputs": [
        {
          "output_type": "stream",
          "name": "stdout",
          "text": [
            "1 - odd\n",
            "2 - even\n",
            "3 - odd\n",
            "4 - even\n",
            "5 - odd\n",
            "6 - even\n",
            "7 - odd\n",
            "8 - even\n",
            "9 - odd\n",
            "10 - even\n",
            "11 - odd\n",
            "12 - even\n",
            "13 - odd\n",
            "14 - even\n",
            "15 - odd\n"
          ]
        }
      ]
    },
    {
      "cell_type": "markdown",
      "source": [
        "#9. Write a Python program to convert temperatures to and from Celsius Fahrenheit. [Formula: c/5=f-32/9 where c=temperature in Celsius and f= temperature in Fahrenheit.]"
      ],
      "metadata": {
        "id": "0wPZX684A-_Z"
      }
    },
    {
      "cell_type": "code",
      "source": [
        "temp=input('Enter your temperature here')\n",
        "scale =temp[-1]\n",
        "value=int(temp[:-1])\n",
        "if scale =='f':\n",
        "  new_value =int(round((5*(value-32))/9 ))\n",
        "  print('Temperature in Celsius ',\"=\", new_value)\n",
        "elif scale=='c':\n",
        "  new_value =int(round(32+(9*value)/5))\n",
        "  print('Temperature in Farenheit ',\"=\", new_value)"
      ],
      "metadata": {
        "id": "Ca0B2EHGb85o",
        "colab": {
          "base_uri": "https://localhost:8080/"
        },
        "outputId": "096ec9a7-0b9f-4d7f-9777-6afd2e406f4c"
      },
      "execution_count": 24,
      "outputs": [
        {
          "output_type": "stream",
          "name": "stdout",
          "text": [
            "Enter your temperature here41f\n",
            "Temperature in Celsius  = 5\n"
          ]
        }
      ]
    },
    {
      "cell_type": "markdown",
      "source": [
        "#10. Write a Python function to calculate the factorial of a number (a nonnegative integer). The function accepts the number as an argument."
      ],
      "metadata": {
        "id": "8zIyOYX3RNFg"
      }
    },
    {
      "cell_type": "code",
      "source": [
        "def factorial(pos_integer):\n",
        "  fact=1\n",
        "  for i in range(1,pos_integer+1):\n",
        "    fact=fact*i\n",
        "  print(fact)\n",
        "\n",
        "n=int(input('input your number'))\n",
        "factorial(n)\n"
      ],
      "metadata": {
        "colab": {
          "base_uri": "https://localhost:8080/"
        },
        "id": "mRm-MGKrRXTk",
        "outputId": "d63b1ae3-ce42-4786-8695-0af024be0d3c"
      },
      "execution_count": 25,
      "outputs": [
        {
          "output_type": "stream",
          "name": "stdout",
          "text": [
            "input your number3\n",
            "6\n"
          ]
        }
      ]
    }
  ]
}